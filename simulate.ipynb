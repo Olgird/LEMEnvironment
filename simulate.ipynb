{
 "cells": [
  {
   "cell_type": "code",
   "execution_count": 1,
   "metadata": {},
   "outputs": [
    {
     "name": "stderr",
     "output_type": "stream",
     "text": [
      "c:\\Users\\Can\\anaconda3\\envs\\City\\lib\\site-packages\\tqdm\\auto.py:22: TqdmWarning: IProgress not found. Please update jupyter and ipywidgets. See https://ipywidgets.readthedocs.io/en/stable/user_install.html\n",
      "  from .autonotebook import tqdm as notebook_tqdm\n"
     ]
    }
   ],
   "source": [
    "import local_energy_market_environment as leme\n",
    "import random\n",
    "random.seed(0)\n",
    "\n",
    "from tqdm import tqdm\n",
    "import numpy as np\n",
    "import torch\n",
    "import collections\n"
   ]
  },
  {
   "cell_type": "code",
   "execution_count": 2,
   "metadata": {},
   "outputs": [],
   "source": [
    "LEM = leme.LEME()"
   ]
  },
  {
   "cell_type": "code",
   "execution_count": 3,
   "metadata": {},
   "outputs": [],
   "source": [
    "state1= LEM.reset()\n",
    "index = LEM.index"
   ]
  },
  {
   "cell_type": "code",
   "execution_count": 5,
   "metadata": {},
   "outputs": [
    {
     "name": "stdout",
     "output_type": "stream",
     "text": [
      "7753\n",
      "41\n"
     ]
    }
   ],
   "source": [
    "print(index)\n",
    "print(len(state1[0]))"
   ]
  },
  {
   "cell_type": "code",
   "execution_count": 12,
   "metadata": {},
   "outputs": [
    {
     "name": "stdout",
     "output_type": "stream",
     "text": [
      "heat_capacity \n",
      "0.33\n",
      "self.outtemp \n",
      "66.02\n",
      "self.heat_resistance \n",
      "13.5\n",
      "self.max_hvac_voltage \n",
      "1.75\n",
      "self.energy_efficiency \n",
      "2.2\n",
      "P:\n",
      "-0.0 -2.0 2.4000000000000004 0.63 0.875\n",
      "price:\n",
      "0.22 0.14300000000000002\n"
     ]
    }
   ],
   "source": [
    "# action a_hvac [-1,1] a_ES [-1,1] a_EV [-1,1] a_SA {0,1}\n",
    "action = [[-0.5,-0.5,0.4,0]]\n",
    "state2 ,L_reward, done , L_cost,L_penalty_commuting,L_penalty_thermal = LEM.step(action)\n",
    "#         print(p_PV , p_ES , p_EV , p_SA , p_HVAC)"
   ]
  },
  {
   "cell_type": "code",
   "execution_count": 13,
   "metadata": {},
   "outputs": [
    {
     "name": "stdout",
     "output_type": "stream",
     "text": [
      "[[6.0, 2.0, 2.0, 0.10140000000000012, 0.5734100000000001, 0.7114166666666666, 0.4635433333333331, 0.624783333333333, 0.09966833333333336, 0.14849333333333337, 0.1483533333333333, 0.32387666666666665, 0.3806966666666667, 0.1452466666666667, 0.17559666666666654, 0.1642066666666667, 0.1062866666666667, 0.3806866666666667, 0.30280666666666683, 0.20453000000000002, 0.12389333333333336, 0.23047666666666672, 0.15762, 0.14654000000000003, 0.10140000000000012, 0.10140000000000012, 0.22, 0.22, 0.066, 64.94, 73.80767676767677, 1, 10, 17, 1, 1, 8.932, 1, 0.0, 1, 3.5947368421052635]]\n"
     ]
    }
   ],
   "source": [
    "print(state2)"
   ]
  },
  {
   "cell_type": "code",
   "execution_count": 14,
   "metadata": {},
   "outputs": [
    {
     "name": "stdout",
     "output_type": "stream",
     "text": [
      "[-0.441408]\n",
      "False\n",
      "[0.441408]\n",
      "[0.0]\n",
      "[0]\n"
     ]
    }
   ],
   "source": [
    "print(L_reward)\n",
    "print(done)\n",
    "print(L_cost)\n",
    "print(L_penalty_commuting)\n",
    "print(L_penalty_thermal)"
   ]
  },
  {
   "cell_type": "code",
   "execution_count": null,
   "metadata": {},
   "outputs": [],
   "source": []
  },
  {
   "cell_type": "code",
   "execution_count": null,
   "metadata": {},
   "outputs": [],
   "source": []
  },
  {
   "cell_type": "code",
   "execution_count": null,
   "metadata": {},
   "outputs": [],
   "source": []
  }
 ],
 "metadata": {
  "kernelspec": {
   "display_name": "City",
   "language": "python",
   "name": "python3"
  },
  "language_info": {
   "codemirror_mode": {
    "name": "ipython",
    "version": 3
   },
   "file_extension": ".py",
   "mimetype": "text/x-python",
   "name": "python",
   "nbconvert_exporter": "python",
   "pygments_lexer": "ipython3",
   "version": "3.9.16"
  },
  "orig_nbformat": 4
 },
 "nbformat": 4,
 "nbformat_minor": 2
}
